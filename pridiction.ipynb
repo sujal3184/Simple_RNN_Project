{
  "cells": [
    {
      "cell_type": "code",
      "execution_count": 4,
      "id": "6e0ca25f",
      "metadata": {
        "id": "6e0ca25f"
      },
      "outputs": [],
      "source": [
        "import numpy as np\n",
        "import tensorflow as tf\n",
        "from tensorflow.keras.datasets import imdb\n",
        "from tensorflow.keras.preprocessing import sequence\n",
        "from tensorflow.keras.models import load_model"
      ]
    },
    {
      "cell_type": "code",
      "execution_count": 5,
      "id": "e2a9b8c1",
      "metadata": {
        "id": "e2a9b8c1"
      },
      "outputs": [],
      "source": [
        "### Mapping of words index back to words(for understanding)\n",
        "word_index = imdb.get_word_index()\n",
        "reverse_word_index = {value:key for key,value in word_index.items()}"
      ]
    },
    {
      "cell_type": "code",
      "source": [
        "from google.colab import files\n",
        "uploaded = files.upload()\n"
      ],
      "metadata": {
        "colab": {
          "base_uri": "https://localhost:8080/",
          "height": 73
        },
        "id": "zkFSYZy0rPGP",
        "outputId": "2289d592-62d9-466c-8659-ca809c695db6"
      },
      "id": "zkFSYZy0rPGP",
      "execution_count": 7,
      "outputs": [
        {
          "output_type": "display_data",
          "data": {
            "text/plain": [
              "<IPython.core.display.HTML object>"
            ],
            "text/html": [
              "\n",
              "     <input type=\"file\" id=\"files-a386685f-845e-4837-92c2-c003c1f8416e\" name=\"files[]\" multiple disabled\n",
              "        style=\"border:none\" />\n",
              "     <output id=\"result-a386685f-845e-4837-92c2-c003c1f8416e\">\n",
              "      Upload widget is only available when the cell has been executed in the\n",
              "      current browser session. Please rerun this cell to enable.\n",
              "      </output>\n",
              "      <script>// Copyright 2017 Google LLC\n",
              "//\n",
              "// Licensed under the Apache License, Version 2.0 (the \"License\");\n",
              "// you may not use this file except in compliance with the License.\n",
              "// You may obtain a copy of the License at\n",
              "//\n",
              "//      http://www.apache.org/licenses/LICENSE-2.0\n",
              "//\n",
              "// Unless required by applicable law or agreed to in writing, software\n",
              "// distributed under the License is distributed on an \"AS IS\" BASIS,\n",
              "// WITHOUT WARRANTIES OR CONDITIONS OF ANY KIND, either express or implied.\n",
              "// See the License for the specific language governing permissions and\n",
              "// limitations under the License.\n",
              "\n",
              "/**\n",
              " * @fileoverview Helpers for google.colab Python module.\n",
              " */\n",
              "(function(scope) {\n",
              "function span(text, styleAttributes = {}) {\n",
              "  const element = document.createElement('span');\n",
              "  element.textContent = text;\n",
              "  for (const key of Object.keys(styleAttributes)) {\n",
              "    element.style[key] = styleAttributes[key];\n",
              "  }\n",
              "  return element;\n",
              "}\n",
              "\n",
              "// Max number of bytes which will be uploaded at a time.\n",
              "const MAX_PAYLOAD_SIZE = 100 * 1024;\n",
              "\n",
              "function _uploadFiles(inputId, outputId) {\n",
              "  const steps = uploadFilesStep(inputId, outputId);\n",
              "  const outputElement = document.getElementById(outputId);\n",
              "  // Cache steps on the outputElement to make it available for the next call\n",
              "  // to uploadFilesContinue from Python.\n",
              "  outputElement.steps = steps;\n",
              "\n",
              "  return _uploadFilesContinue(outputId);\n",
              "}\n",
              "\n",
              "// This is roughly an async generator (not supported in the browser yet),\n",
              "// where there are multiple asynchronous steps and the Python side is going\n",
              "// to poll for completion of each step.\n",
              "// This uses a Promise to block the python side on completion of each step,\n",
              "// then passes the result of the previous step as the input to the next step.\n",
              "function _uploadFilesContinue(outputId) {\n",
              "  const outputElement = document.getElementById(outputId);\n",
              "  const steps = outputElement.steps;\n",
              "\n",
              "  const next = steps.next(outputElement.lastPromiseValue);\n",
              "  return Promise.resolve(next.value.promise).then((value) => {\n",
              "    // Cache the last promise value to make it available to the next\n",
              "    // step of the generator.\n",
              "    outputElement.lastPromiseValue = value;\n",
              "    return next.value.response;\n",
              "  });\n",
              "}\n",
              "\n",
              "/**\n",
              " * Generator function which is called between each async step of the upload\n",
              " * process.\n",
              " * @param {string} inputId Element ID of the input file picker element.\n",
              " * @param {string} outputId Element ID of the output display.\n",
              " * @return {!Iterable<!Object>} Iterable of next steps.\n",
              " */\n",
              "function* uploadFilesStep(inputId, outputId) {\n",
              "  const inputElement = document.getElementById(inputId);\n",
              "  inputElement.disabled = false;\n",
              "\n",
              "  const outputElement = document.getElementById(outputId);\n",
              "  outputElement.innerHTML = '';\n",
              "\n",
              "  const pickedPromise = new Promise((resolve) => {\n",
              "    inputElement.addEventListener('change', (e) => {\n",
              "      resolve(e.target.files);\n",
              "    });\n",
              "  });\n",
              "\n",
              "  const cancel = document.createElement('button');\n",
              "  inputElement.parentElement.appendChild(cancel);\n",
              "  cancel.textContent = 'Cancel upload';\n",
              "  const cancelPromise = new Promise((resolve) => {\n",
              "    cancel.onclick = () => {\n",
              "      resolve(null);\n",
              "    };\n",
              "  });\n",
              "\n",
              "  // Wait for the user to pick the files.\n",
              "  const files = yield {\n",
              "    promise: Promise.race([pickedPromise, cancelPromise]),\n",
              "    response: {\n",
              "      action: 'starting',\n",
              "    }\n",
              "  };\n",
              "\n",
              "  cancel.remove();\n",
              "\n",
              "  // Disable the input element since further picks are not allowed.\n",
              "  inputElement.disabled = true;\n",
              "\n",
              "  if (!files) {\n",
              "    return {\n",
              "      response: {\n",
              "        action: 'complete',\n",
              "      }\n",
              "    };\n",
              "  }\n",
              "\n",
              "  for (const file of files) {\n",
              "    const li = document.createElement('li');\n",
              "    li.append(span(file.name, {fontWeight: 'bold'}));\n",
              "    li.append(span(\n",
              "        `(${file.type || 'n/a'}) - ${file.size} bytes, ` +\n",
              "        `last modified: ${\n",
              "            file.lastModifiedDate ? file.lastModifiedDate.toLocaleDateString() :\n",
              "                                    'n/a'} - `));\n",
              "    const percent = span('0% done');\n",
              "    li.appendChild(percent);\n",
              "\n",
              "    outputElement.appendChild(li);\n",
              "\n",
              "    const fileDataPromise = new Promise((resolve) => {\n",
              "      const reader = new FileReader();\n",
              "      reader.onload = (e) => {\n",
              "        resolve(e.target.result);\n",
              "      };\n",
              "      reader.readAsArrayBuffer(file);\n",
              "    });\n",
              "    // Wait for the data to be ready.\n",
              "    let fileData = yield {\n",
              "      promise: fileDataPromise,\n",
              "      response: {\n",
              "        action: 'continue',\n",
              "      }\n",
              "    };\n",
              "\n",
              "    // Use a chunked sending to avoid message size limits. See b/62115660.\n",
              "    let position = 0;\n",
              "    do {\n",
              "      const length = Math.min(fileData.byteLength - position, MAX_PAYLOAD_SIZE);\n",
              "      const chunk = new Uint8Array(fileData, position, length);\n",
              "      position += length;\n",
              "\n",
              "      const base64 = btoa(String.fromCharCode.apply(null, chunk));\n",
              "      yield {\n",
              "        response: {\n",
              "          action: 'append',\n",
              "          file: file.name,\n",
              "          data: base64,\n",
              "        },\n",
              "      };\n",
              "\n",
              "      let percentDone = fileData.byteLength === 0 ?\n",
              "          100 :\n",
              "          Math.round((position / fileData.byteLength) * 100);\n",
              "      percent.textContent = `${percentDone}% done`;\n",
              "\n",
              "    } while (position < fileData.byteLength);\n",
              "  }\n",
              "\n",
              "  // All done.\n",
              "  yield {\n",
              "    response: {\n",
              "      action: 'complete',\n",
              "    }\n",
              "  };\n",
              "}\n",
              "\n",
              "scope.google = scope.google || {};\n",
              "scope.google.colab = scope.google.colab || {};\n",
              "scope.google.colab._files = {\n",
              "  _uploadFiles,\n",
              "  _uploadFilesContinue,\n",
              "};\n",
              "})(self);\n",
              "</script> "
            ]
          },
          "metadata": {}
        },
        {
          "output_type": "stream",
          "name": "stdout",
          "text": [
            "Saving simple_rnn_model.h5 to simple_rnn_model.h5\n"
          ]
        }
      ]
    },
    {
      "cell_type": "code",
      "execution_count": 10,
      "id": "177945ee",
      "metadata": {
        "colab": {
          "base_uri": "https://localhost:8080/",
          "height": 278
        },
        "id": "177945ee",
        "outputId": "3f423475-5c58-43a0-b9b4-f533969c2b37"
      },
      "outputs": [
        {
          "output_type": "stream",
          "name": "stderr",
          "text": [
            "WARNING:absl:Compiled the loaded model, but the compiled metrics have yet to be built. `model.compile_metrics` will be empty until you train or evaluate the model.\n"
          ]
        },
        {
          "output_type": "display_data",
          "data": {
            "text/plain": [
              "\u001b[1mModel: \"sequential_5\"\u001b[0m\n"
            ],
            "text/html": [
              "<pre style=\"white-space:pre;overflow-x:auto;line-height:normal;font-family:Menlo,'DejaVu Sans Mono',consolas,'Courier New',monospace\"><span style=\"font-weight: bold\">Model: \"sequential_5\"</span>\n",
              "</pre>\n"
            ]
          },
          "metadata": {}
        },
        {
          "output_type": "display_data",
          "data": {
            "text/plain": [
              "┏━━━━━━━━━━━━━━━━━━━━━━━━━━━━━━━━━┳━━━━━━━━━━━━━━━━━━━━━━━━┳━━━━━━━━━━━━━━━┓\n",
              "┃\u001b[1m \u001b[0m\u001b[1mLayer (type)                   \u001b[0m\u001b[1m \u001b[0m┃\u001b[1m \u001b[0m\u001b[1mOutput Shape          \u001b[0m\u001b[1m \u001b[0m┃\u001b[1m \u001b[0m\u001b[1m      Param #\u001b[0m\u001b[1m \u001b[0m┃\n",
              "┡━━━━━━━━━━━━━━━━━━━━━━━━━━━━━━━━━╇━━━━━━━━━━━━━━━━━━━━━━━━╇━━━━━━━━━━━━━━━┩\n",
              "│ embedding_5 (\u001b[38;5;33mEmbedding\u001b[0m)         │ (\u001b[38;5;45mNone\u001b[0m, \u001b[38;5;34m500\u001b[0m, \u001b[38;5;34m128\u001b[0m)       │     \u001b[38;5;34m1,280,000\u001b[0m │\n",
              "├─────────────────────────────────┼────────────────────────┼───────────────┤\n",
              "│ simple_rnn_2 (\u001b[38;5;33mSimpleRNN\u001b[0m)        │ (\u001b[38;5;45mNone\u001b[0m, \u001b[38;5;34m128\u001b[0m)            │        \u001b[38;5;34m32,896\u001b[0m │\n",
              "├─────────────────────────────────┼────────────────────────┼───────────────┤\n",
              "│ dense_2 (\u001b[38;5;33mDense\u001b[0m)                 │ (\u001b[38;5;45mNone\u001b[0m, \u001b[38;5;34m1\u001b[0m)              │           \u001b[38;5;34m129\u001b[0m │\n",
              "└─────────────────────────────────┴────────────────────────┴───────────────┘\n"
            ],
            "text/html": [
              "<pre style=\"white-space:pre;overflow-x:auto;line-height:normal;font-family:Menlo,'DejaVu Sans Mono',consolas,'Courier New',monospace\">┏━━━━━━━━━━━━━━━━━━━━━━━━━━━━━━━━━┳━━━━━━━━━━━━━━━━━━━━━━━━┳━━━━━━━━━━━━━━━┓\n",
              "┃<span style=\"font-weight: bold\"> Layer (type)                    </span>┃<span style=\"font-weight: bold\"> Output Shape           </span>┃<span style=\"font-weight: bold\">       Param # </span>┃\n",
              "┡━━━━━━━━━━━━━━━━━━━━━━━━━━━━━━━━━╇━━━━━━━━━━━━━━━━━━━━━━━━╇━━━━━━━━━━━━━━━┩\n",
              "│ embedding_5 (<span style=\"color: #0087ff; text-decoration-color: #0087ff\">Embedding</span>)         │ (<span style=\"color: #00d7ff; text-decoration-color: #00d7ff\">None</span>, <span style=\"color: #00af00; text-decoration-color: #00af00\">500</span>, <span style=\"color: #00af00; text-decoration-color: #00af00\">128</span>)       │     <span style=\"color: #00af00; text-decoration-color: #00af00\">1,280,000</span> │\n",
              "├─────────────────────────────────┼────────────────────────┼───────────────┤\n",
              "│ simple_rnn_2 (<span style=\"color: #0087ff; text-decoration-color: #0087ff\">SimpleRNN</span>)        │ (<span style=\"color: #00d7ff; text-decoration-color: #00d7ff\">None</span>, <span style=\"color: #00af00; text-decoration-color: #00af00\">128</span>)            │        <span style=\"color: #00af00; text-decoration-color: #00af00\">32,896</span> │\n",
              "├─────────────────────────────────┼────────────────────────┼───────────────┤\n",
              "│ dense_2 (<span style=\"color: #0087ff; text-decoration-color: #0087ff\">Dense</span>)                 │ (<span style=\"color: #00d7ff; text-decoration-color: #00d7ff\">None</span>, <span style=\"color: #00af00; text-decoration-color: #00af00\">1</span>)              │           <span style=\"color: #00af00; text-decoration-color: #00af00\">129</span> │\n",
              "└─────────────────────────────────┴────────────────────────┴───────────────┘\n",
              "</pre>\n"
            ]
          },
          "metadata": {}
        },
        {
          "output_type": "display_data",
          "data": {
            "text/plain": [
              "\u001b[1m Total params: \u001b[0m\u001b[38;5;34m1,313,027\u001b[0m (5.01 MB)\n"
            ],
            "text/html": [
              "<pre style=\"white-space:pre;overflow-x:auto;line-height:normal;font-family:Menlo,'DejaVu Sans Mono',consolas,'Courier New',monospace\"><span style=\"font-weight: bold\"> Total params: </span><span style=\"color: #00af00; text-decoration-color: #00af00\">1,313,027</span> (5.01 MB)\n",
              "</pre>\n"
            ]
          },
          "metadata": {}
        },
        {
          "output_type": "display_data",
          "data": {
            "text/plain": [
              "\u001b[1m Trainable params: \u001b[0m\u001b[38;5;34m1,313,025\u001b[0m (5.01 MB)\n"
            ],
            "text/html": [
              "<pre style=\"white-space:pre;overflow-x:auto;line-height:normal;font-family:Menlo,'DejaVu Sans Mono',consolas,'Courier New',monospace\"><span style=\"font-weight: bold\"> Trainable params: </span><span style=\"color: #00af00; text-decoration-color: #00af00\">1,313,025</span> (5.01 MB)\n",
              "</pre>\n"
            ]
          },
          "metadata": {}
        },
        {
          "output_type": "display_data",
          "data": {
            "text/plain": [
              "\u001b[1m Non-trainable params: \u001b[0m\u001b[38;5;34m0\u001b[0m (0.00 B)\n"
            ],
            "text/html": [
              "<pre style=\"white-space:pre;overflow-x:auto;line-height:normal;font-family:Menlo,'DejaVu Sans Mono',consolas,'Courier New',monospace\"><span style=\"font-weight: bold\"> Non-trainable params: </span><span style=\"color: #00af00; text-decoration-color: #00af00\">0</span> (0.00 B)\n",
              "</pre>\n"
            ]
          },
          "metadata": {}
        },
        {
          "output_type": "display_data",
          "data": {
            "text/plain": [
              "\u001b[1m Optimizer params: \u001b[0m\u001b[38;5;34m2\u001b[0m (12.00 B)\n"
            ],
            "text/html": [
              "<pre style=\"white-space:pre;overflow-x:auto;line-height:normal;font-family:Menlo,'DejaVu Sans Mono',consolas,'Courier New',monospace\"><span style=\"font-weight: bold\"> Optimizer params: </span><span style=\"color: #00af00; text-decoration-color: #00af00\">2</span> (12.00 B)\n",
              "</pre>\n"
            ]
          },
          "metadata": {}
        }
      ],
      "source": [
        "model = load_model(\"simple_rnn_model.h5\")\n",
        "model.summary()\n"
      ]
    },
    {
      "cell_type": "code",
      "execution_count": 11,
      "metadata": {
        "colab": {
          "base_uri": "https://localhost:8080/"
        },
        "id": "XJXh79s9pUux",
        "outputId": "d6ed1064-bc8c-46aa-aa66-35e733a30669"
      },
      "outputs": [
        {
          "output_type": "execute_result",
          "data": {
            "text/plain": [
              "[array([[ 0.6192475 ,  0.21472679,  0.36093056, ..., -0.405161  ,\n",
              "         -0.42857277, -0.38413474],\n",
              "        [ 0.08867666, -0.03818658,  0.00516826, ...,  0.00103464,\n",
              "         -0.08105908, -0.02546845],\n",
              "        [ 0.11711209, -0.11847319,  0.08160052, ..., -0.12936144,\n",
              "         -0.15647194, -0.00889407],\n",
              "        ...,\n",
              "        [-0.09889901, -0.0076126 ,  0.11017296, ..., -0.11546995,\n",
              "          0.20799674,  0.1028769 ],\n",
              "        [ 0.09792591,  0.04980469,  0.05342449, ..., -0.08746119,\n",
              "          0.12710464,  0.09214077],\n",
              "        [ 0.06149845, -0.00529275,  0.13872467, ..., -0.1511531 ,\n",
              "          0.07940055, -0.03294276]], dtype=float32),\n",
              " array([[-1.21652335e-01, -1.13876693e-01,  2.58239042e-02, ...,\n",
              "         -1.43750295e-01, -1.55606925e-01,  5.96075282e-02],\n",
              "        [ 2.06383005e-01,  3.54059436e-03,  1.49056107e-01, ...,\n",
              "          1.06527813e-01, -1.27350846e-02, -1.10758148e-01],\n",
              "        [ 1.17304444e-01, -6.60949387e-03, -1.10826045e-01, ...,\n",
              "         -5.54358549e-02, -8.57359543e-02, -1.76282432e-02],\n",
              "        ...,\n",
              "        [ 1.88944954e-02,  1.31318197e-01,  1.49126723e-01, ...,\n",
              "          1.45168453e-01, -1.73542462e-03,  1.59536734e-01],\n",
              "        [ 3.92901152e-02,  1.65077895e-01,  1.53810039e-01, ...,\n",
              "          1.69620410e-01,  3.66059504e-02, -1.42977748e-04],\n",
              "        [-4.37169671e-02, -1.28335683e-02,  1.06752999e-01, ...,\n",
              "         -3.13614844e-03,  9.96166915e-02,  8.69358182e-02]], dtype=float32),\n",
              " array([[-0.01727089, -0.01363047,  0.14424388, ...,  0.00714313,\n",
              "          0.09560887,  0.08240658],\n",
              "        [-0.02885724, -0.05529867, -0.09588578, ..., -0.10810603,\n",
              "         -0.00656896, -0.06527986],\n",
              "        [ 0.01692431, -0.04623657, -0.12216131, ...,  0.06165119,\n",
              "          0.10157021,  0.06193664],\n",
              "        ...,\n",
              "        [-0.02781739, -0.05693119, -0.08641343, ...,  0.06162249,\n",
              "          0.00980619,  0.10520265],\n",
              "        [ 0.0475233 , -0.06526461, -0.11108994, ..., -0.07973131,\n",
              "          0.01526649,  0.10543087],\n",
              "        [-0.03256544,  0.08352266, -0.12493461, ...,  0.02304409,\n",
              "          0.17335829, -0.20418964]], dtype=float32),\n",
              " array([ 0.01301106,  0.00073008, -0.024292  , -0.04525831, -0.04647951,\n",
              "         0.06828596, -0.01348724,  0.0203767 ,  0.00079946, -0.03056238,\n",
              "         0.00250828, -0.03785644, -0.02806025,  0.03453892,  0.01802316,\n",
              "        -0.05170472, -0.02178209,  0.02270137, -0.01209589, -0.01594606,\n",
              "        -0.06340322, -0.01105512, -0.03466484, -0.00975598, -0.00523567,\n",
              "        -0.05021328,  0.01227111, -0.02226257,  0.00922736,  0.00418443,\n",
              "        -0.01784433, -0.01564187,  0.00420276,  0.00500352, -0.00327372,\n",
              "        -0.03338471, -0.00914476, -0.00064488, -0.02167255, -0.02121001,\n",
              "         0.00771141,  0.00486376,  0.03029589, -0.04034375,  0.01793268,\n",
              "        -0.00937757,  0.0359017 , -0.00434283,  0.00884507, -0.03457028,\n",
              "        -0.00910078, -0.01439443,  0.00923061, -0.03806664,  0.00524906,\n",
              "        -0.0092354 , -0.03355053,  0.04431512, -0.03461103, -0.03683985,\n",
              "        -0.04060329, -0.03833122, -0.02632644,  0.0326924 , -0.00226514,\n",
              "         0.02339895, -0.02513633, -0.0474317 , -0.02087469, -0.00355066,\n",
              "        -0.01694913,  0.0031689 , -0.00803928,  0.04315055, -0.00327756,\n",
              "        -0.08419727, -0.00835166, -0.01052086,  0.01103115, -0.04427662,\n",
              "         0.04059812, -0.06231172, -0.02187897, -0.05465769, -0.00380573,\n",
              "        -0.03027276, -0.03429408, -0.03406748,  0.00284247, -0.01379869,\n",
              "         0.0138015 ,  0.00784406, -0.00696294, -0.02615093, -0.04223189,\n",
              "        -0.05744283, -0.00063363, -0.01103407, -0.02717232, -0.01846403,\n",
              "         0.01374494, -0.01840803,  0.02024345, -0.06058045, -0.08350015,\n",
              "         0.00215525, -0.01296381, -0.03597075, -0.01101376,  0.00746466,\n",
              "        -0.09060661,  0.02544212, -0.04289988, -0.01723981, -0.02957954,\n",
              "        -0.01115001, -0.00137354, -0.0449113 , -0.04251711, -0.00377387,\n",
              "        -0.00408488, -0.00322029, -0.03690469,  0.02121506, -0.00840212,\n",
              "        -0.0344738 , -0.02731594,  0.04786263], dtype=float32),\n",
              " array([[ 0.06409703],\n",
              "        [ 0.03247511],\n",
              "        [-0.21396509],\n",
              "        [-0.18751672],\n",
              "        [-0.13363636],\n",
              "        [ 0.11863834],\n",
              "        [-0.08733892],\n",
              "        [ 0.10230923],\n",
              "        [-0.05130626],\n",
              "        [-0.14973663],\n",
              "        [-0.18847376],\n",
              "        [-0.10049096],\n",
              "        [-0.16683507],\n",
              "        [-0.21269764],\n",
              "        [-0.11231435],\n",
              "        [ 0.09363526],\n",
              "        [ 0.60383856],\n",
              "        [ 0.08565937],\n",
              "        [ 0.13767424],\n",
              "        [-0.14868514],\n",
              "        [-0.02836706],\n",
              "        [-0.16111065],\n",
              "        [ 0.04377881],\n",
              "        [ 0.02542472],\n",
              "        [-0.4210915 ],\n",
              "        [ 0.1108823 ],\n",
              "        [-0.13282941],\n",
              "        [ 0.2726141 ],\n",
              "        [-0.229677  ],\n",
              "        [-0.17069514],\n",
              "        [-0.03609926],\n",
              "        [ 0.05654472],\n",
              "        [ 0.14364819],\n",
              "        [ 0.08323332],\n",
              "        [-0.12900129],\n",
              "        [-0.04635982],\n",
              "        [-0.00539572],\n",
              "        [-0.1277889 ],\n",
              "        [ 0.09288757],\n",
              "        [-0.7474494 ],\n",
              "        [-0.13669229],\n",
              "        [ 0.08243836],\n",
              "        [ 0.06213498],\n",
              "        [-0.01212671],\n",
              "        [-0.20136963],\n",
              "        [ 0.1367909 ],\n",
              "        [-0.19239987],\n",
              "        [-0.18316033],\n",
              "        [ 0.22025242],\n",
              "        [ 0.08238578],\n",
              "        [-0.15686132],\n",
              "        [-0.93800414],\n",
              "        [ 0.08168533],\n",
              "        [-1.0719132 ],\n",
              "        [ 0.06600251],\n",
              "        [-0.1777483 ],\n",
              "        [-0.24027948],\n",
              "        [ 0.02018116],\n",
              "        [-0.04461331],\n",
              "        [-0.12825975],\n",
              "        [-0.15327697],\n",
              "        [-0.15482941],\n",
              "        [ 0.02417334],\n",
              "        [ 0.23078007],\n",
              "        [-0.19220921],\n",
              "        [ 0.06850113],\n",
              "        [-0.08900533],\n",
              "        [-0.28984016],\n",
              "        [-0.03438583],\n",
              "        [-0.11141331],\n",
              "        [-0.26698628],\n",
              "        [-0.1633405 ],\n",
              "        [ 0.06687257],\n",
              "        [-0.0637062 ],\n",
              "        [-0.13903902],\n",
              "        [ 0.12505893],\n",
              "        [ 0.13520561],\n",
              "        [ 0.07898965],\n",
              "        [-0.11954825],\n",
              "        [-0.09735543],\n",
              "        [-0.00560158],\n",
              "        [-0.28868294],\n",
              "        [-0.7536385 ],\n",
              "        [ 0.582254  ],\n",
              "        [-0.1936541 ],\n",
              "        [-0.06349447],\n",
              "        [-0.20089987],\n",
              "        [-0.18766548],\n",
              "        [-0.11395399],\n",
              "        [-0.21621853],\n",
              "        [-0.0615024 ],\n",
              "        [-0.10433537],\n",
              "        [ 0.13642235],\n",
              "        [-0.09220148],\n",
              "        [-0.04734651],\n",
              "        [ 0.31790835],\n",
              "        [ 0.11238395],\n",
              "        [ 0.26688942],\n",
              "        [-0.03346415],\n",
              "        [-0.17559789],\n",
              "        [-0.0953263 ],\n",
              "        [ 0.1441344 ],\n",
              "        [ 0.05501441],\n",
              "        [ 0.21364008],\n",
              "        [ 1.2277955 ],\n",
              "        [ 0.103095  ],\n",
              "        [-0.0706208 ],\n",
              "        [ 0.2515081 ],\n",
              "        [-0.04012815],\n",
              "        [ 0.20911841],\n",
              "        [ 0.04348817],\n",
              "        [-0.56933796],\n",
              "        [-0.10677978],\n",
              "        [-0.12302221],\n",
              "        [-0.3572987 ],\n",
              "        [-0.18759961],\n",
              "        [ 0.23052117],\n",
              "        [ 0.01327976],\n",
              "        [ 0.14992537],\n",
              "        [ 0.08960704],\n",
              "        [ 0.15534271],\n",
              "        [-0.0289628 ],\n",
              "        [ 0.19530761],\n",
              "        [-0.08657615],\n",
              "        [ 0.13831727],\n",
              "        [-0.18400413],\n",
              "        [-0.18283762],\n",
              "        [-0.6972539 ]], dtype=float32),\n",
              " array([-1.4323266], dtype=float32)]"
            ]
          },
          "metadata": {},
          "execution_count": 11
        }
      ],
      "source": [
        "model.get_weights()"
      ],
      "id": "XJXh79s9pUux"
    },
    {
      "cell_type": "code",
      "source": [
        "# Step 2 : Helper Functions\n",
        "# functions to decode reviews\n",
        "def decode_review(encoded_review):\n",
        "  return \" \".join([reverse_word_index.get(i-3,\"?\") for i in encoded_review])\n",
        "\n",
        "# function to preprocess user input\n",
        "def preprocess_text(text):\n",
        "  words = text.lower().split()\n",
        "  encoded_review = [word_index.get(word,2) + 3 for word in words]\n",
        "  padded_review = sequence.pad_sequences([encoded_review], maxlen=500)\n",
        "  return padded_review"
      ],
      "metadata": {
        "id": "Rqt8k6ODrsxq"
      },
      "id": "Rqt8k6ODrsxq",
      "execution_count": 12,
      "outputs": []
    },
    {
      "cell_type": "code",
      "source": [
        "### prediction function\n",
        "\n",
        "def predict_sentiment(review):\n",
        "  preprocessed_input = preprocess_text(review)\n",
        "  prediction = model.predict(preprocessed_input)\n",
        "  sentiment = \"Positive\" if prediction[0][0] > 0.95 else \"Negative\"\n",
        "  return sentiment, prediction[0][0]"
      ],
      "metadata": {
        "id": "76r8B9Y0rsuR"
      },
      "id": "76r8B9Y0rsuR",
      "execution_count": 37,
      "outputs": []
    },
    {
      "cell_type": "code",
      "source": [
        "### step 4 : User Input and Prediction\n",
        "# Example review for prediction\n",
        "example_review = \"the movie is very good but some part i did not like it but overall it is good.\"\n",
        "sentiment,score = predict_sentiment(example_review)\n",
        "\n",
        "print(f'Review: {example_review}')\n",
        "print(f'Sentiment: {sentiment}')\n",
        "print(f'prediction Score: {score}')"
      ],
      "metadata": {
        "colab": {
          "base_uri": "https://localhost:8080/"
        },
        "id": "SiFsJOmqrssM",
        "outputId": "3a454fd7-a5a1-41e5-b979-1f7adc708669"
      },
      "id": "SiFsJOmqrssM",
      "execution_count": 40,
      "outputs": [
        {
          "output_type": "stream",
          "name": "stdout",
          "text": [
            "\u001b[1m1/1\u001b[0m \u001b[32m━━━━━━━━━━━━━━━━━━━━\u001b[0m\u001b[37m\u001b[0m \u001b[1m0s\u001b[0m 55ms/step\n",
            "Review: the movie is very good but some part i did not like it but overall it is good.\n",
            "Sentiment: Positive\n",
            "prediction Score: 0.9896656274795532\n"
          ]
        }
      ]
    },
    {
      "cell_type": "code",
      "source": [],
      "metadata": {
        "id": "o1pu8oBlrsqI"
      },
      "id": "o1pu8oBlrsqI",
      "execution_count": null,
      "outputs": []
    },
    {
      "cell_type": "code",
      "source": [],
      "metadata": {
        "id": "8H_qZ7OmrsoE"
      },
      "id": "8H_qZ7OmrsoE",
      "execution_count": null,
      "outputs": []
    },
    {
      "cell_type": "code",
      "source": [],
      "metadata": {
        "id": "7O0IYAwdrslz"
      },
      "id": "7O0IYAwdrslz",
      "execution_count": null,
      "outputs": []
    },
    {
      "cell_type": "code",
      "source": [],
      "metadata": {
        "id": "1Pdvc_mRrsjn"
      },
      "id": "1Pdvc_mRrsjn",
      "execution_count": null,
      "outputs": []
    }
  ],
  "metadata": {
    "language_info": {
      "name": "python"
    },
    "colab": {
      "provenance": []
    },
    "kernelspec": {
      "name": "python3",
      "display_name": "Python 3"
    }
  },
  "nbformat": 4,
  "nbformat_minor": 5
}